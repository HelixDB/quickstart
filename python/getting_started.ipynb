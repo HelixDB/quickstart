{
 "cells": [
  {
   "cell_type": "markdown",
   "id": "a5a8d6ec",
   "metadata": {},
   "source": [
    "# Getting Started - Python SDK"
   ]
  },
  {
   "cell_type": "markdown",
   "id": "3c9bb632",
   "metadata": {},
   "source": [
    "---"
   ]
  },
  {
   "cell_type": "markdown",
   "id": "bf4e422f",
   "metadata": {},
   "source": [
    "## Setup"
   ]
  },
  {
   "cell_type": "markdown",
   "id": "a6d6d1b2",
   "metadata": {},
   "source": [
    "### Initialize HelixDB"
   ]
  },
  {
   "cell_type": "markdown",
   "id": "231773be",
   "metadata": {},
   "source": [
    "In a terminal:\n",
    "\n",
    "1. `cd python`\n",
    "2. `helix init --path helixdb-cfg`"
   ]
  },
  {
   "cell_type": "markdown",
   "id": "84f9e307",
   "metadata": {},
   "source": [
    "### Python Setup"
   ]
  },
  {
   "cell_type": "markdown",
   "id": "27bb47a6",
   "metadata": {},
   "source": [
    "### uv"
   ]
  },
  {
   "cell_type": "markdown",
   "id": "865df6b8",
   "metadata": {},
   "source": [
    "1. In a terminal inside of directory `/python` run `uv venv`\n",
    "2. Then `source .venv/bin/activate`\n",
    "3. Then `uv sync`"
   ]
  },
  {
   "cell_type": "markdown",
   "id": "7fb05049",
   "metadata": {},
   "source": [
    "### non-uv"
   ]
  },
  {
   "cell_type": "markdown",
   "id": "1e22765a",
   "metadata": {},
   "source": [
    "1. In a terminal inside of directory `/python` run `python -m venv .venv`\n",
    "2. Then `source .venv/bin/activate`\n",
    "3. Then `pip install -r requirements.txt`"
   ]
  },
  {
   "cell_type": "markdown",
   "id": "3f6a453b",
   "metadata": {},
   "source": [
    "---"
   ]
  },
  {
   "cell_type": "markdown",
   "id": "b75f9dc7",
   "metadata": {},
   "source": [
    "## Creating our Nodes"
   ]
  },
  {
   "cell_type": "markdown",
   "id": "11a0955b",
   "metadata": {},
   "source": [
    "Inside of `helixdb-cfg/schema.hx` we can define the nodes we want:"
   ]
  },
  {
   "cell_type": "markdown",
   "id": "7569fac5",
   "metadata": {},
   "source": [
    "```C++\n",
    "N::Continent {\n",
    "    name: String\n",
    "}\n",
    "```\n",
    "```C++\n",
    "N::Country {\n",
    "    name: String,\n",
    "    currency: String\n",
    "}\n",
    "```\n",
    "```C++\n",
    "N::City {\n",
    "    name: String,\n",
    "    description: String\n",
    "}\n",
    "```"
   ]
  },
  {
   "cell_type": "markdown",
   "id": "1bab6a5a",
   "metadata": {},
   "source": [
    "## Creating our Edges between Nodes"
   ]
  },
  {
   "cell_type": "markdown",
   "id": "7d318b75",
   "metadata": {},
   "source": [
    "```C++\n",
    "E::Continent_to_Country {\n",
    "    From: Continent,\n",
    "    To: Country,\n",
    "    Properties: {\n",
    "    }\n",
    "}\n",
    "\n",
    "E::Country_to_City {\n",
    "    From: Country,\n",
    "    To: City,\n",
    "    Properties: {\n",
    "    }\n",
    "}\n",
    "\n",
    "E::Country_to_Capital {\n",
    "    From: Country,\n",
    "    To: City,\n",
    "    Properties: {\n",
    "    }\n",
    "}\n",
    "```"
   ]
  },
  {
   "cell_type": "markdown",
   "id": "9ae5c0ba",
   "metadata": {},
   "source": [
    "## Deploying HelixDB"
   ]
  },
  {
   "cell_type": "markdown",
   "id": "8880deac",
   "metadata": {},
   "source": [
    "1. cd into `helixdb-cfg`\n",
    "2. run `helix deploy`"
   ]
  },
  {
   "cell_type": "markdown",
   "id": "3f75afa2",
   "metadata": {},
   "source": [
    "## Initializing Client using Python SDK"
   ]
  },
  {
   "cell_type": "code",
   "execution_count": 1,
   "id": "666deb9c",
   "metadata": {},
   "outputs": [],
   "source": [
    "from pprint import pprint"
   ]
  },
  {
   "cell_type": "code",
   "execution_count": null,
   "id": "b0d24840",
   "metadata": {},
   "outputs": [
    {
     "name": "stderr",
     "output_type": "stream",
     "text": [
      "\u001b[32m[HELIX]\u001b[0m Helix instance found at 'http://127.0.0.1:6970'\n"
     ]
    }
   ],
   "source": [
    "from helix.client import Client\n",
    "\n",
    "client = Client(local=True, port=6969)"
   ]
  },
  {
   "cell_type": "markdown",
   "id": "41fd7c41",
   "metadata": {},
   "source": [
    "---"
   ]
  },
  {
   "cell_type": "markdown",
   "id": "52881829",
   "metadata": {},
   "source": [
    "## Creating our first query"
   ]
  },
  {
   "cell_type": "markdown",
   "id": "4253f1b9",
   "metadata": {},
   "source": [
    "Lets create our first query (`createContinent`) to insert in continent nodes, inside of `helixdb-cfg/queries.hx` add in the query below:\n",
    "\n",
    "```C++\n",
    "QUERY createContinent (name: String) =>\n",
    "    continent <- AddN<Continent>({name: name})\n",
    "    RETURN continent\n",
    "```\n",
    "\n",
    "### IMPORTANT: Redeploy HelixDB\n",
    "After adding in a new QUERY you need to redeploy HelixDB\n",
    "1. In a terminal, run `helix deploy -c <instance_id>`, if you don't know your instance_id you can do `helix status`"
   ]
  },
  {
   "cell_type": "markdown",
   "id": "aa8e177c",
   "metadata": {},
   "source": [
    "## Inserting in Data"
   ]
  },
  {
   "cell_type": "markdown",
   "id": "00f409f2",
   "metadata": {},
   "source": [
    "### Continents"
   ]
  },
  {
   "cell_type": "markdown",
   "id": "6779ab5d",
   "metadata": {},
   "source": [
    "We will insert in two continents Europe and Asia"
   ]
  },
  {
   "cell_type": "code",
   "execution_count": 3,
   "id": "eef89cc9",
   "metadata": {},
   "outputs": [
    {
     "name": "stderr",
     "output_type": "stream",
     "text": [
      "\u001b[32m[HELIX]\u001b[0m Querying 'http://127.0.0.1:6970/createContinent': 100%|██████████| 1/1 [00:00<00:00, 112.11it/s]\n",
      "\u001b[32m[HELIX]\u001b[0m Querying 'http://127.0.0.1:6970/createContinent': 100%|██████████| 1/1 [00:00<00:00, 162.10it/s]\n"
     ]
    }
   ],
   "source": [
    "europe_node = client.query(\"createContinent\",\n",
    "                           {\"name\": \"Europe\"})\n",
    "\n",
    "asia_node = client.query(\"createContinent\",\n",
    "                         {\"name\": \"Asia\"})"
   ]
  },
  {
   "cell_type": "code",
   "execution_count": 4,
   "id": "4736243c",
   "metadata": {},
   "outputs": [
    {
     "data": {
      "text/plain": [
       "[{'continent': {'id': '1f0887ad-edc6-6ad0-b31c-010203040506',\n",
       "   'label': 'Continent',\n",
       "   'name': 'Europe'}}]"
      ]
     },
     "execution_count": 4,
     "metadata": {},
     "output_type": "execute_result"
    }
   ],
   "source": [
    "europe_node"
   ]
  },
  {
   "cell_type": "code",
   "execution_count": 5,
   "id": "e76d868f",
   "metadata": {},
   "outputs": [
    {
     "data": {
      "text/plain": [
       "[{'continent': {'id': '1f0887ad-eddf-6ecc-b31d-010203040506',\n",
       "   'label': 'Continent',\n",
       "   'name': 'Asia'}}]"
      ]
     },
     "execution_count": 5,
     "metadata": {},
     "output_type": "execute_result"
    }
   ],
   "source": [
    "asia_node"
   ]
  },
  {
   "cell_type": "markdown",
   "id": "2a61e818",
   "metadata": {},
   "source": [
    "### Inserting in Countries and Adding in an Edge between Continent and the Country"
   ]
  },
  {
   "cell_type": "markdown",
   "id": "c75cf5a6",
   "metadata": {},
   "source": [
    "```C++\n",
    "QUERY createCountry (continent_id: ID, name: String, currency: String) =>\n",
    "    // Add a new country node with name and currency\n",
    "    country <- AddN<Country>({name: name, currency: currency})\n",
    "```\n",
    "```C++\n",
    "    // Find and link the country to the continent\n",
    "    continent <- N<Continent>(continent_id)\n",
    "    continent_country <- AddE<Continent_to_Country>()::From(continent)::To(country)\n",
    "    RETURN country\n",
    "```\n",
    "\n",
    "*Dont forget to redeploy HelixDB!*"
   ]
  },
  {
   "cell_type": "markdown",
   "id": "7fee42ad",
   "metadata": {},
   "source": [
    "We're going to get the IDs for Europe and Asia so that we can use it in our `createCountry` QUERY"
   ]
  },
  {
   "cell_type": "code",
   "execution_count": 6,
   "id": "950f2a57",
   "metadata": {},
   "outputs": [
    {
     "data": {
      "text/plain": [
       "('1f0887ad-edc6-6ad0-b31c-010203040506',\n",
       " '1f0887ad-eddf-6ecc-b31d-010203040506')"
      ]
     },
     "execution_count": 6,
     "metadata": {},
     "output_type": "execute_result"
    }
   ],
   "source": [
    "europe_id = europe_node[0]['continent']['id']\n",
    "asia_id = asia_node[0]['continent']['id']\n",
    "europe_id, asia_id"
   ]
  },
  {
   "cell_type": "code",
   "execution_count": 7,
   "id": "48215162",
   "metadata": {},
   "outputs": [
    {
     "name": "stderr",
     "output_type": "stream",
     "text": [
      "\u001b[32m[HELIX]\u001b[0m Querying 'http://127.0.0.1:6970/createCountry': 100%|██████████| 1/1 [00:00<00:00, 181.03it/s]\n",
      "\u001b[32m[HELIX]\u001b[0m Querying 'http://127.0.0.1:6970/createCountry': 100%|██████████| 1/1 [00:00<00:00, 209.34it/s]\n",
      "\u001b[32m[HELIX]\u001b[0m Querying 'http://127.0.0.1:6970/createCountry': 100%|██████████| 1/1 [00:00<00:00, 196.35it/s]\n"
     ]
    }
   ],
   "source": [
    "united_kingdom_node = client.query(\"createCountry\",\n",
    "                                   {\"continent_id\": europe_id,\n",
    "                                    \"name\": \"United Kingdom\",\n",
    "                                    \"currency\": \"GBP\"})\n",
    "\n",
    "germany_node = client.query(\"createCountry\",\n",
    "                            {\"continent_id\": europe_id,\n",
    "                             \"name\": \"Germany\",\n",
    "                             \"currency\": \"Euro\"})\n",
    "\n",
    "china_node = client.query(\"createCountry\",\n",
    "                          {\"continent_id\": asia_id,\n",
    "                           \"name\": \"China\",\n",
    "                           \"currency\": \"Yuan\"})"
   ]
  },
  {
   "cell_type": "code",
   "execution_count": 8,
   "id": "403e92f0",
   "metadata": {},
   "outputs": [
    {
     "data": {
      "text/plain": [
       "[{'country': {'currency': 'GBP',\n",
       "   'name': 'United Kingdom',\n",
       "   'id': '1f0887ad-ee26-6a70-b31e-010203040506',\n",
       "   'label': 'Country'}}]"
      ]
     },
     "execution_count": 8,
     "metadata": {},
     "output_type": "execute_result"
    }
   ],
   "source": [
    "united_kingdom_node"
   ]
  },
  {
   "cell_type": "code",
   "execution_count": 9,
   "id": "98279060",
   "metadata": {},
   "outputs": [
    {
     "data": {
      "text/plain": [
       "[{'country': {'currency': 'Euro',\n",
       "   'name': 'Germany',\n",
       "   'label': 'Country',\n",
       "   'id': '1f0887ad-ee36-666e-b320-010203040506'}}]"
      ]
     },
     "execution_count": 9,
     "metadata": {},
     "output_type": "execute_result"
    }
   ],
   "source": [
    "germany_node"
   ]
  },
  {
   "cell_type": "code",
   "execution_count": 10,
   "id": "206d0047",
   "metadata": {},
   "outputs": [
    {
     "data": {
      "text/plain": [
       "[{'country': {'currency': 'Yuan',\n",
       "   'name': 'China',\n",
       "   'label': 'Country',\n",
       "   'id': '1f0887ad-ee44-626e-b322-010203040506'}}]"
      ]
     },
     "execution_count": 10,
     "metadata": {},
     "output_type": "execute_result"
    }
   ],
   "source": [
    "china_node"
   ]
  },
  {
   "cell_type": "markdown",
   "id": "a93f6aad",
   "metadata": {},
   "source": [
    "### Inserting in Cities and Adding in an Edge between Country and the City"
   ]
  },
  {
   "cell_type": "markdown",
   "id": "dc8e2c46",
   "metadata": {},
   "source": [
    "```C++\n",
    "QUERY createCity (country_id: ID, name: String, description: String) =>\n",
    "    // Add a new city node with name and description\n",
    "    city <- AddN<City>({name: name, description: description})\n",
    "\n",
    "    // Find and link the city to the country\n",
    "    country <- N<Country>(country_id)\n",
    "    country_city <- AddE<Country_to_City>()::From(country)::To(city)\n",
    "    RETURN city\n",
    "```\n",
    "\n",
    "*Dont forget to redeploy HelixDB!*"
   ]
  },
  {
   "cell_type": "code",
   "execution_count": 11,
   "id": "e5e50e0f",
   "metadata": {},
   "outputs": [
    {
     "name": "stderr",
     "output_type": "stream",
     "text": [
      "\u001b[32m[HELIX]\u001b[0m Querying 'http://127.0.0.1:6970/createCity': 100%|██████████| 1/1 [00:00<00:00, 175.69it/s]\n",
      "\u001b[32m[HELIX]\u001b[0m Querying 'http://127.0.0.1:6970/createCity': 100%|██████████| 1/1 [00:00<00:00, 190.04it/s]\n"
     ]
    }
   ],
   "source": [
    "# Adding in London and Manchester to the United Kingdom\n",
    "london_node = client.query(\"createCity\",\n",
    "                            {\"country_id\": united_kingdom_node[0]['country']['id'],\n",
    "                            \"name\": \"London\",\n",
    "                            \"description\": \"Capital city known for its finance, culture, and history\"})\n",
    "\n",
    "manchester_node = client.query(\"createCity\",\n",
    "                            {\"country_id\": united_kingdom_node[0]['country']['id'],\n",
    "                            \"name\": \"Manchester\",\n",
    "                            \"description\": \"Northern hub for music, sports, and industry\"})"
   ]
  },
  {
   "cell_type": "code",
   "execution_count": 12,
   "id": "27042b2c",
   "metadata": {},
   "outputs": [
    {
     "name": "stderr",
     "output_type": "stream",
     "text": [
      "\u001b[32m[HELIX]\u001b[0m Querying 'http://127.0.0.1:6970/createCity': 100%|██████████| 1/1 [00:00<00:00, 197.86it/s]\n",
      "\u001b[32m[HELIX]\u001b[0m Querying 'http://127.0.0.1:6970/createCity': 100%|██████████| 1/1 [00:00<00:00, 193.13it/s]\n"
     ]
    }
   ],
   "source": [
    "# Adding in Berlin and Munich to Germany\n",
    "berlin_node = client.query(\"createCity\",\n",
    "                           {\"country_id\": germany_node[0]['country']['id'],\n",
    "                            \"name\": \"Berlin\",\n",
    "                            \"description\": \"Capital city known for history, culture, and politics\"})\n",
    "\n",
    "munich_node = client.query(\"createCity\",\n",
    "                           {\"country_id\": germany_node[0]['country']['id'],\n",
    "                            \"name\": \"Munich\",\n",
    "                            \"description\": \"Bavarian capital known for Oktoberfest and tech innovation\"})"
   ]
  },
  {
   "cell_type": "code",
   "execution_count": 13,
   "id": "11bd914d",
   "metadata": {},
   "outputs": [
    {
     "name": "stderr",
     "output_type": "stream",
     "text": [
      "\u001b[32m[HELIX]\u001b[0m Querying 'http://127.0.0.1:6970/createCity': 100%|██████████| 1/1 [00:00<00:00, 196.97it/s]\n",
      "\u001b[32m[HELIX]\u001b[0m Querying 'http://127.0.0.1:6970/createCity': 100%|██████████| 1/1 [00:00<00:00, 193.77it/s]\n"
     ]
    }
   ],
   "source": [
    "# Adding in Beijing and Shanghai to China\n",
    "beijing_node = client.query(\"createCity\",\n",
    "                            {\"country_id\": china_node[0]['country']['id'],\n",
    "                             \"name\": \"Beijing\",\n",
    "                             \"description\": \"Capital city with political, cultural, and historical importance\"})\n",
    "\n",
    "shanghai_node = client.query(\"createCity\",\n",
    "                             {\"country_id\": china_node[0]['country']['id'],\n",
    "                              \"name\": \"Shanghai\",\n",
    "                              \"description\": \"Global financial hub and largest city by population\"})"
   ]
  },
  {
   "cell_type": "markdown",
   "id": "97350156",
   "metadata": {},
   "source": [
    "### Adding in the Edge between a **Capital** City and a Country "
   ]
  },
  {
   "cell_type": "markdown",
   "id": "db0f7c8b",
   "metadata": {},
   "source": [
    "```C++\n",
    "QUERY setCapital (country_id: ID, city_id: ID) =>\n",
    "    // Find the country and city nodes\n",
    "    country <- N<Country>(country_id)\n",
    "    city <- N<City>(city_id)\n",
    "\n",
    "    // Link the city to the country as capital\n",
    "    country_capital <- AddE<Country_to_Capital>()::From(country)::To(city)\n",
    "    RETURN country_capital\n",
    "```\n",
    "\n",
    "*Dont forget to redeploy HelixDB!*"
   ]
  },
  {
   "cell_type": "code",
   "execution_count": 14,
   "id": "0a17dbb9",
   "metadata": {},
   "outputs": [
    {
     "name": "stderr",
     "output_type": "stream",
     "text": [
      "\u001b[32m[HELIX]\u001b[0m Querying 'http://127.0.0.1:6970/setCapital': 100%|██████████| 1/1 [00:00<00:00, 176.11it/s]"
     ]
    },
    {
     "name": "stdout",
     "output_type": "stream",
     "text": [
      "[{'country_capital': {'from_node': '1f0887ad-ee26-6a70-b31e-010203040506',\n",
      "                      'id': '1f0887ad-eee4-6908-b330-010203040506',\n",
      "                      'label': 'Country_to_Capital',\n",
      "                      'to_node': '1f0887ad-ee75-67ec-b324-010203040506'}}]\n"
     ]
    },
    {
     "name": "stderr",
     "output_type": "stream",
     "text": [
      "\n"
     ]
    }
   ],
   "source": [
    "# Adding in the London as the capital of the United Kingdom\n",
    "pprint(client.query(\"setCapital\",\n",
    "             {\"country_id\": united_kingdom_node[0]['country']['id'],\n",
    "              \"city_id\": london_node[0]['city']['id']}))"
   ]
  },
  {
   "cell_type": "code",
   "execution_count": 15,
   "id": "7e64516d",
   "metadata": {},
   "outputs": [
    {
     "name": "stderr",
     "output_type": "stream",
     "text": [
      "\u001b[32m[HELIX]\u001b[0m Querying 'http://127.0.0.1:6970/setCapital': 100%|██████████| 1/1 [00:00<00:00, 195.96it/s]\n"
     ]
    },
    {
     "data": {
      "text/plain": [
       "[{'country_capital': {'id': '1f0887ad-eefb-6482-b331-010203040506',\n",
       "   'label': 'Country_to_Capital',\n",
       "   'from_node': '1f0887ad-ee36-666e-b320-010203040506',\n",
       "   'to_node': '1f0887ad-ee9d-645e-b328-010203040506'}}]"
      ]
     },
     "execution_count": 15,
     "metadata": {},
     "output_type": "execute_result"
    }
   ],
   "source": [
    "# Adding in Berlin as the capital of Germany\n",
    "client.query(\"setCapital\",\n",
    "             {\"country_id\": germany_node[0]['country']['id'],\n",
    "              \"city_id\": berlin_node[0]['city']['id']})"
   ]
  },
  {
   "cell_type": "code",
   "execution_count": 16,
   "id": "2023cb4d",
   "metadata": {},
   "outputs": [
    {
     "name": "stderr",
     "output_type": "stream",
     "text": [
      "\u001b[32m[HELIX]\u001b[0m Querying 'http://127.0.0.1:6970/setCapital': 100%|██████████| 1/1 [00:00<00:00, 196.55it/s]\n"
     ]
    },
    {
     "data": {
      "text/plain": [
       "[{'country_capital': {'label': 'Country_to_Capital',\n",
       "   'from_node': '1f0887ad-ee44-626e-b322-010203040506',\n",
       "   'to_node': '1f0887ad-eec1-6214-b32c-010203040506',\n",
       "   'id': '1f0887ad-ef11-6ae8-b332-010203040506'}}]"
      ]
     },
     "execution_count": 16,
     "metadata": {},
     "output_type": "execute_result"
    }
   ],
   "source": [
    "client.query(\"setCapital\",\n",
    "             {\"country_id\": china_node[0]['country']['id'],\n",
    "              \"city_id\": beijing_node[0]['city']['id']})"
   ]
  },
  {
   "cell_type": "markdown",
   "id": "b9ae63a0",
   "metadata": {},
   "source": [
    "---"
   ]
  },
  {
   "cell_type": "markdown",
   "id": "2ed6d0b8",
   "metadata": {},
   "source": [
    "## Get queries"
   ]
  },
  {
   "cell_type": "markdown",
   "id": "17202358",
   "metadata": {},
   "source": [
    "Now we have added in all Continents, Countries and their Cities. We can create `GET` queries in HelixDB"
   ]
  },
  {
   "cell_type": "markdown",
   "id": "558288ff",
   "metadata": {},
   "source": [
    "### Get all continents"
   ]
  },
  {
   "cell_type": "markdown",
   "id": "14f81711",
   "metadata": {},
   "source": [
    "```C++\n",
    "QUERY getAllContinents () =>\n",
    "    // Select all continent nodes\n",
    "    continents <- N<Continent>\n",
    "    RETURN continents\n",
    "```\n",
    "\n",
    "*Dont forget to redeploy HelixDB!*"
   ]
  },
  {
   "cell_type": "code",
   "execution_count": 17,
   "id": "71872408",
   "metadata": {},
   "outputs": [
    {
     "name": "stderr",
     "output_type": "stream",
     "text": [
      "\u001b[32m[HELIX]\u001b[0m Querying 'http://127.0.0.1:6970/getAllContinents': 100%|██████████| 1/1 [00:00<00:00, 1326.05it/s]"
     ]
    },
    {
     "name": "stdout",
     "output_type": "stream",
     "text": [
      "[{'continents': [{'id': '1f0887ad-edc6-6ad0-b31c-010203040506',\n",
      "                  'label': 'Continent',\n",
      "                  'name': 'Europe'},\n",
      "                 {'id': '1f0887ad-eddf-6ecc-b31d-010203040506',\n",
      "                  'label': 'Continent',\n",
      "                  'name': 'Asia'}]}]\n"
     ]
    },
    {
     "name": "stderr",
     "output_type": "stream",
     "text": [
      "\n"
     ]
    }
   ],
   "source": [
    "pprint(client.query(\"getAllContinents\", {}))"
   ]
  },
  {
   "cell_type": "markdown",
   "id": "96bc749b",
   "metadata": {},
   "source": [
    "### Get all countries"
   ]
  },
  {
   "cell_type": "markdown",
   "id": "62673ad1",
   "metadata": {},
   "source": [
    "```C++\n",
    "QUERY getAllContinents () =>\n",
    "    // Select all continent nodes\n",
    "    continents <- N<Continent>\n",
    "    RETURN continents\n",
    "```\n",
    "*Dont forget to redeploy HelixDB!*\n"
   ]
  },
  {
   "cell_type": "code",
   "execution_count": 18,
   "id": "df55f4ec",
   "metadata": {},
   "outputs": [
    {
     "name": "stderr",
     "output_type": "stream",
     "text": [
      "\u001b[32m[HELIX]\u001b[0m Querying 'http://127.0.0.1:6970/getAllCountries': 100%|██████████| 1/1 [00:00<00:00, 1475.31it/s]"
     ]
    },
    {
     "name": "stdout",
     "output_type": "stream",
     "text": [
      "[{'countries': [{'currency': 'GBP',\n",
      "                 'id': '1f0887ad-ee26-6a70-b31e-010203040506',\n",
      "                 'label': 'Country',\n",
      "                 'name': 'United Kingdom'},\n",
      "                {'currency': 'Euro',\n",
      "                 'id': '1f0887ad-ee36-666e-b320-010203040506',\n",
      "                 'label': 'Country',\n",
      "                 'name': 'Germany'},\n",
      "                {'currency': 'Yuan',\n",
      "                 'id': '1f0887ad-ee44-626e-b322-010203040506',\n",
      "                 'label': 'Country',\n",
      "                 'name': 'China'}]}]\n"
     ]
    },
    {
     "name": "stderr",
     "output_type": "stream",
     "text": [
      "\n"
     ]
    }
   ],
   "source": [
    "pprint(client.query(\"getAllCountries\", {}))"
   ]
  },
  {
   "cell_type": "markdown",
   "id": "3e79b1e7",
   "metadata": {},
   "source": [
    "### Get all countries by continent ID"
   ]
  },
  {
   "cell_type": "markdown",
   "id": "2edac42a",
   "metadata": {},
   "source": [
    "```C++\n",
    "QUERY getAllCountriesByContinentID (continent_id: ID) =>\n",
    "    // Select continent node with given ID\n",
    "    continent <- N<Continent>(continent_id)\n",
    "\n",
    "    // Select all countries linked to the continent\n",
    "    countries <- continent::Out<Continent_to_Country>\n",
    "    RETURN countries\n",
    "```\n",
    "\n",
    "*Dont forget to redeploy HelixDB!*"
   ]
  },
  {
   "cell_type": "code",
   "execution_count": 19,
   "id": "cfdc1fbd",
   "metadata": {},
   "outputs": [
    {
     "name": "stderr",
     "output_type": "stream",
     "text": [
      "\u001b[32m[HELIX]\u001b[0m Querying 'http://127.0.0.1:6970/getAllCountriesByContinentID': 100%|██████████| 1/1 [00:00<00:00, 1120.87it/s]"
     ]
    },
    {
     "name": "stdout",
     "output_type": "stream",
     "text": [
      "[{'countries': [{'currency': 'GBP',\n",
      "                 'id': '1f0887ad-ee26-6a70-b31e-010203040506',\n",
      "                 'label': 'Country',\n",
      "                 'name': 'United Kingdom'},\n",
      "                {'currency': 'Euro',\n",
      "                 'id': '1f0887ad-ee36-666e-b320-010203040506',\n",
      "                 'label': 'Country',\n",
      "                 'name': 'Germany'}]}]\n"
     ]
    },
    {
     "name": "stderr",
     "output_type": "stream",
     "text": [
      "\n"
     ]
    }
   ],
   "source": [
    "pprint(client.query(\"getAllCountriesByContinentID\", {\"continent_id\": europe_id}))"
   ]
  },
  {
   "cell_type": "markdown",
   "id": "04a2e2af",
   "metadata": {},
   "source": [
    "```C++\n",
    "QUERY getAllCitiesByCountryID (country_id: ID) =>\n",
    "    // Select country node with given ID\n",
    "    country <- N<Country>(country_id)\n",
    "\n",
    "    // Select all cities linked to the country\n",
    "    cities <- country::Out<Country_to_City>\n",
    "    RETURN cities\n",
    "```\n",
    "*Dont forget to redeploy HelixDB!*"
   ]
  },
  {
   "cell_type": "code",
   "execution_count": 20,
   "id": "72728efe",
   "metadata": {},
   "outputs": [
    {
     "name": "stderr",
     "output_type": "stream",
     "text": [
      "\u001b[32m[HELIX]\u001b[0m Querying 'http://127.0.0.1:6970/getAllCitiesByCountryID': 100%|██████████| 1/1 [00:00<00:00, 1264.49it/s]"
     ]
    },
    {
     "name": "stdout",
     "output_type": "stream",
     "text": [
      "[{'cities': [{'description': 'Capital city known for its finance, culture, and '\n",
      "                             'history',\n",
      "              'id': '1f0887ad-ee75-67ec-b324-010203040506',\n",
      "              'label': 'City',\n",
      "              'name': 'London'},\n",
      "             {'description': 'Northern hub for music, sports, and industry',\n",
      "              'id': '1f0887ad-ee86-6010-b326-010203040506',\n",
      "              'label': 'City',\n",
      "              'name': 'Manchester'}]}]\n"
     ]
    },
    {
     "name": "stderr",
     "output_type": "stream",
     "text": [
      "\n"
     ]
    }
   ],
   "source": [
    "pprint(client.query(\"getAllCitiesByCountryID\", {\"country_id\": united_kingdom_node[0]['country']['id']}))"
   ]
  },
  {
   "cell_type": "markdown",
   "id": "32b67323",
   "metadata": {},
   "source": [
    "### Getting Capital City of a Country"
   ]
  },
  {
   "cell_type": "markdown",
   "id": "6ada41e1",
   "metadata": {},
   "source": [
    "```C++\n",
    "QUERY getCapital (country_id: ID) =>\n",
    "    // Select country node with given ID\n",
    "    country <- N<Country>(country_id)\n",
    "\n",
    "    // Select capital node linked to the country\n",
    "    capital <- country::Out<Country_to_Capital>\n",
    "    RETURN capital\n",
    "```\n",
    "\n",
    "*Dont forget to redeploy HelixDB!*"
   ]
  },
  {
   "cell_type": "code",
   "execution_count": 21,
   "id": "da71f4c2",
   "metadata": {},
   "outputs": [
    {
     "name": "stderr",
     "output_type": "stream",
     "text": [
      "\u001b[32m[HELIX]\u001b[0m Querying 'http://127.0.0.1:6970/getCapital': 100%|██████████| 1/1 [00:00<00:00, 1203.53it/s]"
     ]
    },
    {
     "name": "stdout",
     "output_type": "stream",
     "text": [
      "[{'capital': [{'description': 'Capital city known for its finance, culture, '\n",
      "                              'and history',\n",
      "               'id': '1f0887ad-ee75-67ec-b324-010203040506',\n",
      "               'label': 'City',\n",
      "               'name': 'London'}]}]\n"
     ]
    },
    {
     "name": "stderr",
     "output_type": "stream",
     "text": [
      "\n"
     ]
    }
   ],
   "source": [
    "pprint(client.query(\"getCapital\", {\"country_id\": united_kingdom_node[0]['country']['id']}))"
   ]
  },
  {
   "cell_type": "markdown",
   "id": "803390a5",
   "metadata": {},
   "source": [
    "## Adding and Searching Embeddings"
   ]
  },
  {
   "cell_type": "markdown",
   "id": "ef273f95",
   "metadata": {},
   "source": [
    "For embeddings we can add in a vector node into our `schema.hx`.\n",
    "\n",
    "```C++\n",
    "V::Description_Embedding {\n",
    "    embedding: [F64]\n",
    "}\n",
    "\n",
    "E::Description_Embedding_to_City {\n",
    "    From: Description_Embedding,\n",
    "    To: City,\n",
    "    Properties: {\n",
    "    }\n",
    "}\n",
    "```\n",
    "\n",
    "We will be embedding the description of the city, and connect that vector to the city node. \n",
    "\n",
    "*Dont forget to redeploy HelixDB!*"
   ]
  },
  {
   "cell_type": "markdown",
   "id": "7a491dee",
   "metadata": {},
   "source": [
    "And in our `query.hx`, you can add in:\n",
    "\n",
    "```C++\n",
    "QUERY createDescriptionEmbedding (city_id: ID, embedding: [F64]) =>\n",
    "    description_embedding <- AddV<Description_Embedding>(embedding)\n",
    "    city <- N<City>(city_id)\n",
    "    city_description_embedding <- AddE<Description_Embedding_to_City>()::From(city)::To(description_embedding)\n",
    "    RETURN description_embedding\n",
    "```\n",
    "\n",
    "```C++\n",
    "QUERY searchDescriptions (vector: [F64], k: I64) =>\n",
    "    descriptions <- SearchV<Description_Embedding>(vector, k)\n",
    "    cities <- descriptions::In<Description_Embedding_to_City>\n",
    "    RETURN cities\n",
    "```\n",
    "\n",
    "*Dont forget to redeploy HelixDB!*"
   ]
  },
  {
   "cell_type": "markdown",
   "id": "457118ef",
   "metadata": {},
   "source": [
    "### Adding in description embeddings for each city"
   ]
  },
  {
   "cell_type": "code",
   "execution_count": 22,
   "id": "e09a80ec",
   "metadata": {},
   "outputs": [
    {
     "name": "stderr",
     "output_type": "stream",
     "text": [
      "\u001b[32m[HELIX]\u001b[0m Querying 'http://127.0.0.1:6970/createDescriptionEmbedding': 100%|██████████| 1/1 [00:00<00:00, 183.59it/s]\n",
      "\u001b[32m[HELIX]\u001b[0m Querying 'http://127.0.0.1:6970/createDescriptionEmbedding': 100%|██████████| 1/1 [00:00<00:00, 195.58it/s]\n",
      "\u001b[32m[HELIX]\u001b[0m Querying 'http://127.0.0.1:6970/createDescriptionEmbedding': 100%|██████████| 1/1 [00:00<00:00, 77.34it/s]\n",
      "\u001b[32m[HELIX]\u001b[0m Querying 'http://127.0.0.1:6970/createDescriptionEmbedding': 100%|██████████| 1/1 [00:00<00:00, 191.53it/s]\n",
      "\u001b[32m[HELIX]\u001b[0m Querying 'http://127.0.0.1:6970/createDescriptionEmbedding': 100%|██████████| 1/1 [00:00<00:00, 194.28it/s]\n",
      "\u001b[32m[HELIX]\u001b[0m Querying 'http://127.0.0.1:6970/createDescriptionEmbedding': 100%|██████████| 1/1 [00:00<00:00, 173.43it/s]\n"
     ]
    },
    {
     "data": {
      "text/plain": [
       "[{'description_embedding': {'data': [0.6, 0.7, 0.8],\n",
       "   'label': 'vector',\n",
       "   'id': '1f0887ad-efc2-650a-b33d-010203040506',\n",
       "   'score': 2.0}}]"
      ]
     },
     "execution_count": 22,
     "metadata": {},
     "output_type": "execute_result"
    }
   ],
   "source": [
    "client.query(\"createDescriptionEmbedding\", \n",
    "             {\"city_id\": london_node[0]['city']['id'],\n",
    "              \"embedding\": [0.1, 0.2, 0.3]})\n",
    "\n",
    "client.query(\"createDescriptionEmbedding\",\n",
    "             {\"city_id\": manchester_node[0]['city']['id'],\n",
    "              \"embedding\": [0.2, 0.3, 0.4]})\n",
    "\n",
    "client.query(\"createDescriptionEmbedding\",\n",
    "             {\"city_id\": berlin_node[0]['city']['id'],\n",
    "              \"embedding\": [0.3, 0.4, 0.5]})\n",
    "\n",
    "client.query(\"createDescriptionEmbedding\",\n",
    "             {\"city_id\": munich_node[0]['city']['id'],\n",
    "              \"embedding\": [0.4, 0.5, 0.6]})\n",
    "\n",
    "client.query(\"createDescriptionEmbedding\",\n",
    "             {\"city_id\": beijing_node[0]['city']['id'],\n",
    "              \"embedding\": [0.5, 0.6, 0.7]})\n",
    "\n",
    "client.query(\"createDescriptionEmbedding\",\n",
    "             {\"city_id\": shanghai_node[0]['city']['id'],\n",
    "              \"embedding\": [0.6, 0.7, 0.8]})"
   ]
  },
  {
   "cell_type": "markdown",
   "id": "7293807e",
   "metadata": {},
   "source": [
    "### Searching vector nodes by similarity search"
   ]
  },
  {
   "cell_type": "code",
   "execution_count": 24,
   "id": "70149249",
   "metadata": {},
   "outputs": [
    {
     "name": "stderr",
     "output_type": "stream",
     "text": [
      "\u001b[32m[HELIX]\u001b[0m Querying 'http://127.0.0.1:6970/searchDescriptions': 100%|██████████| 1/1 [00:00<00:00, 1007.04it/s]"
     ]
    },
    {
     "name": "stdout",
     "output_type": "stream",
     "text": [
      "[{'cities': [{'description': 'Global financial hub and largest city by '\n",
      "                             'population',\n",
      "              'id': '1f0887ad-eecf-6120-b32e-010203040506',\n",
      "              'label': 'City',\n",
      "              'name': 'Shanghai'}]}]\n"
     ]
    },
    {
     "name": "stderr",
     "output_type": "stream",
     "text": [
      "\n"
     ]
    }
   ],
   "source": [
    "pprint(client.query(\"searchDescriptions\", {\"vector\": [0.6, 0.7, 0.8], \"k\": 1}))"
   ]
  }
 ],
 "metadata": {
  "kernelspec": {
   "display_name": ".venv",
   "language": "python",
   "name": "python3"
  },
  "language_info": {
   "codemirror_mode": {
    "name": "ipython",
    "version": 3
   },
   "file_extension": ".py",
   "mimetype": "text/x-python",
   "name": "python",
   "nbconvert_exporter": "python",
   "pygments_lexer": "ipython3",
   "version": "3.11.11"
  }
 },
 "nbformat": 4,
 "nbformat_minor": 5
}
